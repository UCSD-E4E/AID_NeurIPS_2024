{
 "cells": [
  {
   "cell_type": "code",
   "execution_count": 1,
   "id": "f2f1ef86-2c27-4d2d-9dbf-6187a8ee11ad",
   "metadata": {},
   "outputs": [],
   "source": [
    "from PyHa.statistics import *\n",
    "from PyHa.IsoAutio import *\n",
    "from PyHa.visualizations import *\n",
    "from PyHa.annotation_post_processing import *\n",
    "import pandas as pd\n",
    "import os\n",
    "import time"
   ]
  },
  {
   "cell_type": "code",
   "execution_count": 2,
   "id": "21529166-77d4-4270-92c6-c8d515ad1097",
   "metadata": {},
   "outputs": [],
   "source": [
    "# helper functions\n",
    "def get_species_name(filename):\n",
    "    split_filename = filename.split(\"-\")"
   ]
  },
  {
   "cell_type": "markdown",
   "id": "82ae6c3d-670e-4c88-be39-f75e1c0a99c2",
   "metadata": {},
   "source": [
    "# Processing Manually Labeled Madre de Dios XC Bird Labels"
   ]
  },
  {
   "cell_type": "code",
   "execution_count": 3,
   "id": "d95507e5-ff10-4105-ae81-20d7c2891f35",
   "metadata": {},
   "outputs": [
    {
     "name": "stdout",
     "output_type": "stream",
     "text": [
      "31365\n"
     ]
    }
   ],
   "source": [
    "data_path = \"./Mixed_Bird/\"\n",
    "label_path = \"MDD_Xeno_Canto_DSC180_Labels.csv\"\n",
    "manual_labels = pd.read_csv(label_path)\n",
    "manual_labels[\"FOLDER\"] = [data_path] * len(manual_labels)\n",
    "print(len(manual_labels))"
   ]
  },
  {
   "cell_type": "code",
   "execution_count": 4,
   "id": "10b754df-4633-48b6-8237-08751b64efbf",
   "metadata": {},
   "outputs": [],
   "source": [
    "# filtering the high priority species\n",
    "species_count_dict = {}\n",
    "for filename in os.listdir(data_path):\n",
    "    #print(filename)\n",
    "    split_filename = filename.split(\"-\")\n",
    "    species_name = split_filename[0] + '-' + split_filename[1]\n",
    "    if species_name not in species_count_dict.keys():\n",
    "        species_count_dict[species_name] = 1\n",
    "    else:\n",
    "        species_count_dict[species_name] += 1\n",
    "high_priority_species = set()\n",
    "for species in species_count_dict.keys():\n",
    "    if species_count_dict[species] >= 3:\n",
    "        high_priority_species.add(species)"
   ]
  },
  {
   "cell_type": "code",
   "execution_count": null,
   "id": "75f9e3d5-d93c-4274-949f-d93409fe38fc",
   "metadata": {},
   "outputs": [],
   "source": []
  },
  {
   "cell_type": "markdown",
   "id": "8e2015ea-4896-488c-8f76-a45023cf6b27",
   "metadata": {},
   "source": [
    "# Performing the BirdNET DSP Segmentation on the dataset"
   ]
  },
  {
   "cell_type": "code",
   "execution_count": 5,
   "id": "e9d24fa7-1e2b-43ff-8924-ee60dd192469",
   "metadata": {},
   "outputs": [],
   "source": [
    "isolation_parameters_birdnet = {\n",
    "    \"model\" : \"fg_bg_dsp_sep\",\n",
    "    \"technique\" : \"simple\",\n",
    "    \"threshold_type\" : \"pure\",\n",
    "    \"threshold_const\" : 0.5,\n",
    "    \"verbose\" : True,\n",
    "    \"kernel_size\" : 4,\n",
    "    \"power_threshold\" : 3.0,\n",
    "    \"threshold_min\" : 0.0\n",
    "}"
   ]
  },
  {
   "cell_type": "code",
   "execution_count": 6,
   "id": "bbc07257-24c0-442b-9d91-a9d45f0a82a9",
   "metadata": {},
   "outputs": [],
   "source": [
    "#start_time = time.time()\n",
    "#automated_labels_fg_bg = generate_automated_labels( data_path, isolation_parameters_birdnet)\n",
    "#end_time = time.time()\n",
    "#print(end_time - start_time)"
   ]
  },
  {
   "cell_type": "markdown",
   "id": "58736346-a2a7-4446-859f-96b4832446b2",
   "metadata": {},
   "source": [
    "# Performing Microfaune Segmentation on the dataset"
   ]
  },
  {
   "cell_type": "code",
   "execution_count": 7,
   "id": "a4f777ec-c296-4e00-a55b-f594ed02b52e",
   "metadata": {},
   "outputs": [],
   "source": [
    "data_path = \"./Mixed_Bird/\"\n",
    "# parameters for Microfaune\n",
    "isolation_parameters_microfaune = {\n",
    "     \"model\" :          \"microfaune\",\n",
    "     \"technique\" :       \"steinberg\",\n",
    "     \"threshold_type\" :  \"median\",\n",
    "     \"threshold_const\" : 3.2,\n",
    "     \"threshold_min\" :   0.12,\n",
    "     \"window_size\" :     1.5,\n",
    "     \"verbose\"     :     True\n",
    "}"
   ]
  },
  {
   "cell_type": "code",
   "execution_count": 8,
   "id": "8fce4420-ade0-4a7b-9fb3-fbbd35706518",
   "metadata": {},
   "outputs": [],
   "source": [
    "#start_time = time.time()\n",
    "#automated_labels_microfaune = generate_automated_labels( data_path, isolation_parameters_microfaune)\n",
    "#end_time = time.time()\n",
    "#print(end_time - start_time)"
   ]
  },
  {
   "cell_type": "markdown",
   "id": "def0b664-e026-46a0-99ad-d5c4cca9dae9",
   "metadata": {},
   "source": [
    "# Performing Tweetynet Segmentation on the dataset"
   ]
  },
  {
   "cell_type": "code",
   "execution_count": 9,
   "id": "90037dc6-4a5e-4ae3-8277-e9e5bb759b44",
   "metadata": {},
   "outputs": [],
   "source": [
    "data_path = \"./Mixed_Bird/\"\n",
    "# Example parameters for TweetyNET\n",
    "isolation_parameters_tweetynet = {\n",
    "     \"model\" : \"tweetynet\",\n",
    "     \"tweety_output\": True,\n",
    "     \"verbose\" : True\n",
    "}"
   ]
  },
  {
   "cell_type": "code",
   "execution_count": 10,
   "id": "70fd8171-f1cf-448e-806a-8a99ef227da4",
   "metadata": {},
   "outputs": [],
   "source": [
    "#start_time = time.time()\n",
    "#automated_labels_tweetynet = generate_automated_labels( data_path, isolation_parameters_tweetynet)\n",
    "#end_time = time.time()\n",
    "#print(end_time - start_time)"
   ]
  },
  {
   "cell_type": "markdown",
   "id": "d40694a4-429c-4774-9522-03af0aac77e1",
   "metadata": {},
   "source": [
    "# Label Post-processing\n",
    "## Converting all labels to 3s\n",
    "## Keeping only the \"High Priority\" Species\n",
    "## Making sure that only labels used from the same clips "
   ]
  },
  {
   "cell_type": "code",
   "execution_count": 11,
   "id": "be94469d-bf15-45ae-b228-dd504675dc5e",
   "metadata": {},
   "outputs": [],
   "source": [
    "#automated_labels_fg_bg.to_csv(\"fg_bg_mdd.csv\", index=False)"
   ]
  },
  {
   "cell_type": "code",
   "execution_count": 12,
   "id": "c77e5d87-6ed3-461b-88e8-ee9c6a01d858",
   "metadata": {},
   "outputs": [],
   "source": [
    "#automated_labels_tweetynet.to_csv(\"tweetynet_mdd.csv\", index=False)"
   ]
  },
  {
   "cell_type": "code",
   "execution_count": 13,
   "id": "3eb30825-0733-4d9d-b13b-9b1f32ea4250",
   "metadata": {},
   "outputs": [],
   "source": [
    "#automated_labels_microfaune.to_csv(\"microfaune_mdd.csv\", index=False)"
   ]
  },
  {
   "cell_type": "code",
   "execution_count": 14,
   "id": "86767cde-312d-4f3d-8563-69c5930946f7",
   "metadata": {},
   "outputs": [],
   "source": [
    "automated_labels_fg_bg = pd.read_csv(\"fg_bg_mdd.csv\")\n",
    "automated_labels_tweetynet = pd.read_csv(\"tweetynet_mdd.csv\")\n",
    "automated_labels_microfaune = pd.read_csv(\"microfaune_mdd.csv\")"
   ]
  },
  {
   "cell_type": "code",
   "execution_count": 15,
   "id": "a11bb866-7185-4f50-8681-63ae53dfe8eb",
   "metadata": {},
   "outputs": [],
   "source": [
    "#species_column = []\n",
    "#for row in automated_labels_microfaune.index:\n",
    "#    split_filename = automated_labels_microfaune[\"IN FILE\"][row].split(\"-\")\n",
    "#    species_name = split_filename[0] + '-' + split_filename[1]\n",
    "#    species_column.append(species_name)\n",
    "#automated_labels_microfaune[\"MANUAL ID\"] = species_column"
   ]
  },
  {
   "cell_type": "code",
   "execution_count": 16,
   "id": "4e2be1b5-276e-419f-93d6-eb10fa7b3949",
   "metadata": {},
   "outputs": [],
   "source": [
    "#species_column = []\n",
    "#for row in automated_labels_fg_bg.index:\n",
    "#    split_filename = automated_labels_fg_bg[\"IN FILE\"][row].split(\"-\")\n",
    "#    species_name = split_filename[0] + '-' + split_filename[1]\n",
    "#    species_column.append(species_name)\n",
    "#automated_labels_fg_bg[\"MANUAL ID\"] = species_column"
   ]
  },
  {
   "cell_type": "code",
   "execution_count": 17,
   "id": "799bceeb-cc4e-41f4-9f2f-df5f4ccb94ad",
   "metadata": {},
   "outputs": [],
   "source": [
    "#species_column = []\n",
    "#for row in automated_labels_tweetynet.index:\n",
    "#    split_filename = automated_labels_tweetynet[\"IN FILE\"][row].split(\"-\")\n",
    "#    species_name = split_filename[0] + '-' + split_filename[1]\n",
    "#    species_column.append(species_name)\n",
    "#automated_labels_tweetynet[\"MANUAL ID\"] = species_column"
   ]
  },
  {
   "cell_type": "code",
   "execution_count": 18,
   "id": "4dc42068-ce0d-49d5-837d-a746f8f860e1",
   "metadata": {},
   "outputs": [],
   "source": [
    "#species_column = []\n",
    "#for row in manual_labels.index:\n",
    "#    split_filename = manual_labels[\"IN FILE\"][row].split(\"-\")\n",
    "#    species_name = split_filename[0] + '-' + split_filename[1]\n",
    "#    species_column.append(species_name)\n",
    "#manual_labels[\"MANUAL ID\"] = species_column"
   ]
  },
  {
   "cell_type": "code",
   "execution_count": 19,
   "id": "d20c7e2a-184f-4c97-891b-aa8f15062b9d",
   "metadata": {},
   "outputs": [],
   "source": [
    "#automated_labels_fg_bg = automated_labels_fg_bg[automated_labels_fg_bg[\"MANUAL ID\"].isin(high_priority_species)]\n",
    "#automated_labels_microfaune = automated_labels_microfaune[automated_labels_microfaune[\"MANUAL ID\"].isin(high_priority_species)]\n",
    "#automated_labels_tweetynet = automated_labels_tweetynet[automated_labels_tweetynet[\"MANUAL ID\"].isin(high_priority_species)]\n",
    "#manual_df = manual_labels[manual_labels[\"MANUAL ID\"].isin(high_priority_species)]"
   ]
  },
  {
   "cell_type": "code",
   "execution_count": 20,
   "id": "1a6972ac-3e6a-49f3-b98a-496bd3e1bd7a",
   "metadata": {},
   "outputs": [],
   "source": [
    "#clip_set = set(manual_df[\"IN FILE\"].unique())\n",
    "#automated_labels_fg_bg = automated_labels_fg_bg[automated_labels_fg_bg[\"IN FILE\"].isin(clip_set)]\n",
    "#automated_labels_microfaune = automated_labels_microfaune[automated_labels_microfaune[\"IN FILE\"].isin(clip_set)]\n",
    "#automated_labels_tweetynet = automated_labels_tweetynet[automated_labels_tweetynet[\"IN FILE\"].isin(clip_set)]"
   ]
  },
  {
   "cell_type": "code",
   "execution_count": 21,
   "id": "0be04c85-f71d-4bc3-94fa-c790ed55a2d4",
   "metadata": {},
   "outputs": [],
   "source": [
    "#automated_labels_fg_bg.to_csv(\"fg_bg_pre.csv\", index=False)\n",
    "#automated_labels_microfaune.to_csv(\"microfaune_pre.csv\", index=False)\n",
    "#automated_labels_tweetynet.to_csv(\"tweetynet_pre.csv\", index=False)\n",
    "#manual_df.to_csv(\"manual_pre.csv\", index=False)\n",
    "#print(len(automated_labels_fg_bg))\n",
    "#print(len(automated_labels_microfaune))\n",
    "#print(len(automated_labels_tweetynet))"
   ]
  },
  {
   "cell_type": "code",
   "execution_count": 22,
   "id": "1e57b7dc-c678-4860-8799-0708d675357d",
   "metadata": {},
   "outputs": [],
   "source": [
    "# converting the labels into 3s segments\n",
    "automated_labels_fg_bg_3s = annotation_chunker(automated_labels_fg_bg, 3)"
   ]
  },
  {
   "cell_type": "code",
   "execution_count": 23,
   "id": "80a644e8-a243-48f6-9598-fd52e0b686e7",
   "metadata": {},
   "outputs": [],
   "source": [
    "automated_labels_microfaune_3s = annotation_chunker(automated_labels_microfaune, 3)"
   ]
  },
  {
   "cell_type": "code",
   "execution_count": 24,
   "id": "558eadca-c5a9-47a6-ad21-f1f804844d4b",
   "metadata": {},
   "outputs": [],
   "source": [
    "automated_labels_tweetynet_3s = annotation_chunker(automated_labels_tweetynet, 3)"
   ]
  },
  {
   "cell_type": "code",
   "execution_count": 25,
   "id": "7ccb34e3-1f8c-4b39-8777-e956da128f95",
   "metadata": {},
   "outputs": [],
   "source": [
    "manual_labels = annotation_chunker(manual_labels, 3)"
   ]
  },
  {
   "cell_type": "code",
   "execution_count": 26,
   "id": "908f1367-4074-486f-a121-3edcfe112359",
   "metadata": {},
   "outputs": [
    {
     "name": "stdout",
     "output_type": "stream",
     "text": [
      "34339\n",
      "20938\n",
      "29245\n"
     ]
    }
   ],
   "source": [
    "print(len(automated_labels_fg_bg_3s))\n",
    "print(len(automated_labels_microfaune_3s))\n",
    "print(len(automated_labels_tweetynet_3s))"
   ]
  },
  {
   "cell_type": "code",
   "execution_count": 27,
   "id": "56b41a43-06f3-4561-b35c-32db44d0f18f",
   "metadata": {},
   "outputs": [],
   "source": [
    "species_column = []\n",
    "for row in automated_labels_microfaune_3s.index:\n",
    "    split_filename = automated_labels_microfaune_3s[\"IN FILE\"][row].split(\"-\")\n",
    "    species_name = split_filename[0] + '-' + split_filename[1]\n",
    "    species_column.append(species_name)\n",
    "automated_labels_microfaune_3s[\"MANUAL ID\"] = species_column"
   ]
  },
  {
   "cell_type": "code",
   "execution_count": 28,
   "id": "5513afbf-5d0c-424f-8efc-bdaaccf988c9",
   "metadata": {},
   "outputs": [],
   "source": [
    "species_column = []\n",
    "for row in automated_labels_fg_bg_3s.index:\n",
    "    split_filename = automated_labels_fg_bg_3s[\"IN FILE\"][row].split(\"-\")\n",
    "    species_name = split_filename[0] + '-' + split_filename[1]\n",
    "    species_column.append(species_name)\n",
    "automated_labels_fg_bg_3s[\"MANUAL ID\"] = species_column"
   ]
  },
  {
   "cell_type": "code",
   "execution_count": 29,
   "id": "59f31b6f-4b5e-4c6d-86a1-6da64d002850",
   "metadata": {},
   "outputs": [],
   "source": [
    "species_column = []\n",
    "for row in automated_labels_tweetynet_3s.index:\n",
    "    split_filename = automated_labels_tweetynet_3s[\"IN FILE\"][row].split(\"-\")\n",
    "    species_name = split_filename[0] + '-' + split_filename[1]\n",
    "    species_column.append(species_name)\n",
    "automated_labels_tweetynet_3s[\"MANUAL ID\"] = species_column"
   ]
  },
  {
   "cell_type": "code",
   "execution_count": 30,
   "id": "8d3e154d-33c7-49e2-ad0d-f982793534f0",
   "metadata": {},
   "outputs": [],
   "source": [
    "species_column = []\n",
    "for row in manual_labels.index:\n",
    "    split_filename = manual_labels[\"IN FILE\"][row].split(\"-\")\n",
    "    species_name = split_filename[0] + '-' + split_filename[1]\n",
    "    species_column.append(species_name)\n",
    "manual_labels[\"MANUAL ID\"] = species_column"
   ]
  },
  {
   "cell_type": "code",
   "execution_count": 31,
   "id": "905162fb-89af-4c83-836e-79bcfdf45e2f",
   "metadata": {},
   "outputs": [],
   "source": [
    "fg_bg_automated_df = automated_labels_fg_bg_3s[automated_labels_fg_bg_3s[\"MANUAL ID\"].isin(high_priority_species)]\n",
    "microfaune_automated_df = automated_labels_microfaune_3s[automated_labels_microfaune_3s[\"MANUAL ID\"].isin(high_priority_species)]\n",
    "tweetynet_automated_df = automated_labels_tweetynet_3s[automated_labels_tweetynet_3s[\"MANUAL ID\"].isin(high_priority_species)]\n",
    "manual_df = manual_labels[manual_labels[\"MANUAL ID\"].isin(high_priority_species)]"
   ]
  },
  {
   "cell_type": "code",
   "execution_count": 32,
   "id": "94f79dcd-4b1d-4ab7-bbcf-85267acd3a48",
   "metadata": {},
   "outputs": [
    {
     "name": "stdout",
     "output_type": "stream",
     "text": [
      "26689\n",
      "16208\n",
      "22739\n",
      "17125\n"
     ]
    }
   ],
   "source": [
    "print(len(fg_bg_automated_df))\n",
    "#print(len(fg_bg_automated_df[\"IN FILE\"].unique()))\n",
    "print(len(microfaune_automated_df))\n",
    "#print(len(microfaune_automated_df[\"IN FILE\"].unique()))\n",
    "print(len(tweetynet_automated_df))\n",
    "#print(len(tweetynet_automated_df[\"IN FILE\"].unique()))\n",
    "print(len(manual_df))\n",
    "#print(len(manual_df[\"IN FILE\"].unique()))"
   ]
  },
  {
   "cell_type": "code",
   "execution_count": 33,
   "id": "2d12c51f-c5f7-4cb1-875f-978341353307",
   "metadata": {},
   "outputs": [],
   "source": [
    "clip_set = set(manual_df[\"IN FILE\"].unique())"
   ]
  },
  {
   "cell_type": "code",
   "execution_count": 34,
   "id": "aa504dfb-b6b5-4c76-b3e7-374aa8a76aac",
   "metadata": {},
   "outputs": [],
   "source": [
    "fg_bg_automated_df = fg_bg_automated_df[fg_bg_automated_df[\"IN FILE\"].isin(clip_set)]\n",
    "microfaune_automated_df = microfaune_automated_df[microfaune_automated_df[\"IN FILE\"].isin(clip_set)]\n",
    "tweetynet_automated_df = tweetynet_automated_df[tweetynet_automated_df[\"IN FILE\"].isin(clip_set)]"
   ]
  },
  {
   "cell_type": "code",
   "execution_count": 35,
   "id": "f8b5df40-9532-4af2-a472-5b9ef9fcb943",
   "metadata": {},
   "outputs": [
    {
     "name": "stdout",
     "output_type": "stream",
     "text": [
      "Number of Human Annotations:  17125\n",
      "Number of Clips 1892\n",
      "Number of FG-BG Separation Annotations 21567\n",
      "Number of Clips where FG-BG identified birds 1891\n",
      "Number of Microfaune Automated Annotations 13187\n",
      "Number of Clips where Microfaune identified birds 1494\n",
      "Number of Tweetynet Automated Annotations 18359\n",
      "Number of Clips where Tweetynet identified birds 1887\n"
     ]
    }
   ],
   "source": [
    "print(\"Number of Human Annotations: \", len(manual_df))\n",
    "print(\"Number of Clips\", len(manual_df[\"IN FILE\"].unique()))\n",
    "print(\"Number of FG-BG Separation Annotations\", len(fg_bg_automated_df))\n",
    "print(\"Number of Clips where FG-BG identified birds\", len(fg_bg_automated_df[\"IN FILE\"].unique()))\n",
    "print(\"Number of Microfaune Automated Annotations\", len(microfaune_automated_df))\n",
    "print(\"Number of Clips where Microfaune identified birds\", len(microfaune_automated_df[\"IN FILE\"].unique()))\n",
    "print(\"Number of Tweetynet Automated Annotations\", len(tweetynet_automated_df))\n",
    "print(\"Number of Clips where Tweetynet identified birds\", len(tweetynet_automated_df[\"IN FILE\"].unique()))\n",
    "fg_bg_automated_df.to_csv(\"fg_bg_automated_labels.csv\", index=False)\n",
    "microfaune_automated_df.to_csv(\"microfaune_automated_df.csv\", index=False)\n",
    "fg_bg_automated_df.to_csv(\"tweetynet_automated_df.csv\", index=False)\n",
    "manual_df.to_csv( \"manual_labels_processed.csv\", index=False)"
   ]
  },
  {
   "cell_type": "markdown",
   "id": "b06ed089-3e80-4dcb-a504-9c972f5dbef1",
   "metadata": {},
   "source": [
    "# Calculating Precision and Recall"
   ]
  },
  {
   "cell_type": "markdown",
   "id": "ec794f5b-7c22-4193-9406-83e9cff2f250",
   "metadata": {},
   "source": [
    "## Clip Metrics"
   ]
  },
  {
   "cell_type": "code",
   "execution_count": 36,
   "id": "b34196c6-8189-4685-a8e7-f1188e72fde0",
   "metadata": {},
   "outputs": [],
   "source": [
    "fg_bg_automated_df[\"FOLDER\"] = [data_path] * len(fg_bg_automated_df)\n",
    "microfaune_automated_df[\"FOLDER\"] = [data_path] * len(microfaune_automated_df)\n",
    "tweetynet_automated_df[\"FOLDER\"] = [data_path] * len(tweetynet_automated_df)"
   ]
  },
  {
   "cell_type": "code",
   "execution_count": 37,
   "id": "558edc0e-a075-4f7f-95cb-d6e3ae3560c6",
   "metadata": {},
   "outputs": [],
   "source": [
    "clip_statistics_df_fg_bg = clip_statistics(fg_bg_automated_df,manual_df,stats_type = \"general\");\n",
    "clip_statistics_df_fg_bg.to_csv(\"fg_bg_clip_stats.csv\", index=False)"
   ]
  },
  {
   "cell_type": "code",
   "execution_count": 38,
   "id": "603a8191-4195-497c-b15b-069c67d6f5ea",
   "metadata": {
    "scrolled": true
   },
   "outputs": [
    {
     "name": "stdout",
     "output_type": "stream",
     "text": [
      "Error calculating statistics, likely due\n",
      "        to zero division, setting values to zero\n",
      "Error calculating statistics, likely due\n",
      "        to zero division, setting values to zero\n",
      "Error calculating statistics, likely due\n",
      "        to zero division, setting values to zero\n",
      "Error calculating statistics, likely due\n",
      "        to zero division, setting values to zero\n",
      "Error calculating statistics, likely due\n",
      "        to zero division, setting values to zero\n",
      "Error calculating statistics, likely due\n",
      "        to zero division, setting values to zero\n",
      "Error calculating statistics, likely due\n",
      "        to zero division, setting values to zero\n",
      "Error calculating statistics, likely due\n",
      "        to zero division, setting values to zero\n",
      "Error calculating statistics, likely due\n",
      "        to zero division, setting values to zero\n",
      "Error calculating statistics, likely due\n",
      "        to zero division, setting values to zero\n",
      "Error calculating statistics, likely due\n",
      "        to zero division, setting values to zero\n",
      "Error calculating statistics, likely due\n",
      "        to zero division, setting values to zero\n",
      "Error calculating statistics, likely due\n",
      "        to zero division, setting values to zero\n",
      "Error calculating statistics, likely due\n",
      "        to zero division, setting values to zero\n",
      "Error calculating statistics, likely due\n",
      "        to zero division, setting values to zero\n",
      "Error calculating statistics, likely due\n",
      "        to zero division, setting values to zero\n",
      "Error calculating statistics, likely due\n",
      "        to zero division, setting values to zero\n",
      "Error calculating statistics, likely due\n",
      "        to zero division, setting values to zero\n",
      "Error calculating statistics, likely due\n",
      "        to zero division, setting values to zero\n",
      "Error calculating statistics, likely due\n",
      "        to zero division, setting values to zero\n",
      "Error calculating statistics, likely due\n",
      "        to zero division, setting values to zero\n",
      "Error calculating statistics, likely due\n",
      "        to zero division, setting values to zero\n",
      "Error calculating statistics, likely due\n",
      "        to zero division, setting values to zero\n",
      "Error calculating statistics, likely due\n",
      "        to zero division, setting values to zero\n",
      "Error calculating statistics, likely due\n",
      "        to zero division, setting values to zero\n",
      "Error calculating statistics, likely due\n",
      "        to zero division, setting values to zero\n",
      "Error calculating statistics, likely due\n",
      "        to zero division, setting values to zero\n",
      "Error calculating statistics, likely due\n",
      "        to zero division, setting values to zero\n",
      "Error calculating statistics, likely due\n",
      "        to zero division, setting values to zero\n",
      "Error calculating statistics, likely due\n",
      "        to zero division, setting values to zero\n",
      "Error calculating statistics, likely due\n",
      "        to zero division, setting values to zero\n"
     ]
    }
   ],
   "source": [
    "clip_statistics_df_microfaune = clip_statistics(microfaune_automated_df,manual_df,stats_type = \"general\");\n",
    "clip_statistics_df_microfaune.to_csv(\"microfaune_clip_stats.csv\", index=False)"
   ]
  },
  {
   "cell_type": "code",
   "execution_count": 39,
   "id": "8e44ab52-7509-4e34-a093-518c61e77f3c",
   "metadata": {},
   "outputs": [],
   "source": [
    "clip_statistics_df_tweetynet = clip_statistics(tweetynet_automated_df,manual_df,stats_type = \"general\");\n",
    "clip_statistics_df_tweetynet.to_csv(\"tweetynet_clip_stats.csv\", index=False)"
   ]
  },
  {
   "cell_type": "markdown",
   "id": "e37da56f-5236-41e6-8cc7-0ef12db16a75",
   "metadata": {},
   "source": [
    "## Class Metrics"
   ]
  },
  {
   "cell_type": "code",
   "execution_count": 40,
   "id": "b3ba921b-3beb-4d57-9c53-b2ef86356baa",
   "metadata": {},
   "outputs": [],
   "source": [
    "class_statistics_df_fg_bg = class_statistics(clip_statistics_df_fg_bg)\n",
    "class_statistics_df_fg_bg.to_csv(\"fg_bg_class_stats.csv\", index=False)"
   ]
  },
  {
   "cell_type": "code",
   "execution_count": 41,
   "id": "51576557-ec5f-4161-acd1-21b656c6d6b5",
   "metadata": {},
   "outputs": [
    {
     "name": "stderr",
     "output_type": "stream",
     "text": [
      "/home/thesis-generator/PyHa/PyHa/statistics.py:695: RuntimeWarning: invalid value encountered in scalar divide\n",
      "  f1 = 2 * (precision * recall) / (precision + recall)\n"
     ]
    }
   ],
   "source": [
    "class_statistics_df_microfaune = class_statistics(clip_statistics_df_microfaune)\n",
    "class_statistics_df_microfaune.to_csv(\"microfaune_class_stats.csv\", index=False)"
   ]
  },
  {
   "cell_type": "code",
   "execution_count": 42,
   "id": "1b852f87-6252-4554-a173-9afe0d8b780b",
   "metadata": {},
   "outputs": [],
   "source": [
    "class_statistics_df_tweetynet = class_statistics(clip_statistics_df_tweetynet)\n",
    "class_statistics_df_tweetynet.to_csv(\"tweetynet_class_stats.csv\", index=False)"
   ]
  },
  {
   "cell_type": "markdown",
   "id": "14efa5a3-d250-4a97-953b-c4f97c8b9739",
   "metadata": {},
   "source": [
    "## Global Metrics"
   ]
  },
  {
   "cell_type": "code",
   "execution_count": 43,
   "id": "95753656-eb93-4cf1-8f9d-fd6a94d50a34",
   "metadata": {},
   "outputs": [
    {
     "name": "stderr",
     "output_type": "stream",
     "text": [
      "/tmp/ipykernel_1136281/828244937.py:7: SettingWithCopyWarning: \n",
      "A value is trying to be set on a copy of a slice from a DataFrame.\n",
      "Try using .loc[row_indexer,col_indexer] = value instead\n",
      "\n",
      "See the caveats in the documentation: https://pandas.pydata.org/pandas-docs/stable/user_guide/indexing.html#returning-a-view-versus-a-copy\n",
      "  manual_df[\"MANUAL ID\"] = [\"bird\"] * len(manual_df)\n"
     ]
    }
   ],
   "source": [
    "fg_bg_automated_df[\"MANUAL ID\"] = [\"bird\"] * len(fg_bg_automated_df)\n",
    "fg_bg_automated_df[\"FOLDER\"] = [data_path] * len(fg_bg_automated_df)\n",
    "microfaune_automated_df[\"MANUAL ID\"] = [\"bird\"] * len(microfaune_automated_df)\n",
    "microfaune_automated_df[\"FOLDER\"] = [data_path] * len(microfaune_automated_df)\n",
    "tweetynet_automated_df[\"MANUAL ID\"] = [\"bird\"] * len(tweetynet_automated_df)\n",
    "tweetynet_automated_df[\"FOLDER\"] = [data_path] * len(tweetynet_automated_df)\n",
    "manual_df[\"MANUAL ID\"] = [\"bird\"] * len(manual_df)"
   ]
  },
  {
   "cell_type": "code",
   "execution_count": 44,
   "id": "5f78c3ca-7326-4d72-922f-97c7ea0fc6b3",
   "metadata": {
    "scrolled": true
   },
   "outputs": [
    {
     "name": "stdout",
     "output_type": "stream",
     "text": [
      "Processed 50 clips in 1.8 seconds\n",
      "Processed 100 clips in 1.6 seconds\n",
      "Processed 150 clips in 1.7 seconds\n",
      "Processed 200 clips in 1.7 seconds\n",
      "Processed 250 clips in 1.8 seconds\n",
      "Processed 300 clips in 1.9 seconds\n",
      "Processed 350 clips in 1.5 seconds\n",
      "Processed 400 clips in 1.8 seconds\n",
      "Processed 450 clips in 1.8 seconds\n",
      "Processed 500 clips in 1.6 seconds\n",
      "Processed 550 clips in 1.7 seconds\n",
      "Processed 600 clips in 1.5 seconds\n",
      "Processed 650 clips in 1.4 seconds\n",
      "Processed 700 clips in 1.5 seconds\n",
      "Processed 750 clips in 1.7 seconds\n",
      "Processed 800 clips in 1.4 seconds\n",
      "Processed 850 clips in 1.5 seconds\n",
      "Processed 900 clips in 1.8 seconds\n",
      "Processed 950 clips in 1.4 seconds\n",
      "Processed 1000 clips in 1.7 seconds\n",
      "Processed 1050 clips in 1.6 seconds\n",
      "Processed 1100 clips in 1.3 seconds\n",
      "Processed 1150 clips in 2.2 seconds\n",
      "Processed 1200 clips in 1.7 seconds\n",
      "Processed 1250 clips in 1.7 seconds\n",
      "Processed 1300 clips in 1.7 seconds\n",
      "Processed 1350 clips in 1.8 seconds\n",
      "Processed 1400 clips in 1.7 seconds\n",
      "Processed 1450 clips in 1.6 seconds\n",
      "Processed 1500 clips in 1.8 seconds\n",
      "Processed 1550 clips in 1.9 seconds\n",
      "Processed 1600 clips in 1.5 seconds\n",
      "Processed 1650 clips in 2.0 seconds\n",
      "Processed 1700 clips in 1.6 seconds\n",
      "Processed 1750 clips in 1.4 seconds\n",
      "Processed 1800 clips in 1.6 seconds\n",
      "Processed 1850 clips in 1.8 seconds\n"
     ]
    }
   ],
   "source": [
    "statistics_df_fg_bg = automated_labeling_statistics(fg_bg_automated_df,manual_df,stats_type = \"general\");"
   ]
  },
  {
   "cell_type": "code",
   "execution_count": 45,
   "id": "e119f85a-bed8-40c9-bffb-80f2af006429",
   "metadata": {
    "scrolled": true
   },
   "outputs": [
    {
     "name": "stdout",
     "output_type": "stream",
     "text": [
      "Error calculating statistics, likely due\n",
      "        to zero division, setting values to zero\n",
      "Error calculating statistics, likely due\n",
      "        to zero division, setting values to zero\n",
      "Error calculating statistics, likely due\n",
      "        to zero division, setting values to zero\n",
      "Processed 50 clips in 1.8 seconds\n",
      "Error calculating statistics, likely due\n",
      "        to zero division, setting values to zero\n",
      "Processed 100 clips in 1.6 seconds\n",
      "Error calculating statistics, likely due\n",
      "        to zero division, setting values to zero\n",
      "Error calculating statistics, likely due\n",
      "        to zero division, setting values to zero\n",
      "Processed 150 clips in 1.9 seconds\n",
      "Error calculating statistics, likely due\n",
      "        to zero division, setting values to zero\n",
      "Processed 200 clips in 1.7 seconds\n",
      "Processed 250 clips in 2.0 seconds\n",
      "Error calculating statistics, likely due\n",
      "        to zero division, setting values to zero\n",
      "Error calculating statistics, likely due\n",
      "        to zero division, setting values to zero\n",
      "Processed 300 clips in 2.0 seconds\n",
      "Processed 350 clips in 1.5 seconds\n",
      "Error calculating statistics, likely due\n",
      "        to zero division, setting values to zero\n",
      "Processed 400 clips in 2.0 seconds\n",
      "Processed 450 clips in 1.8 seconds\n",
      "Processed 500 clips in 1.6 seconds\n",
      "Processed 550 clips in 1.6 seconds\n",
      "Error calculating statistics, likely due\n",
      "        to zero division, setting values to zero\n",
      "Processed 600 clips in 1.5 seconds\n",
      "Error calculating statistics, likely due\n",
      "        to zero division, setting values to zero\n",
      "Processed 650 clips in 1.6 seconds\n",
      "Error calculating statistics, likely due\n",
      "        to zero division, setting values to zero\n",
      "Processed 700 clips in 1.8 seconds\n",
      "Error calculating statistics, likely due\n",
      "        to zero division, setting values to zero\n",
      "Error calculating statistics, likely due\n",
      "        to zero division, setting values to zero\n",
      "Processed 750 clips in 1.4 seconds\n",
      "Processed 800 clips in 1.8 seconds\n",
      "Error calculating statistics, likely due\n",
      "        to zero division, setting values to zero\n",
      "Processed 850 clips in 1.5 seconds\n",
      "Error calculating statistics, likely due\n",
      "        to zero division, setting values to zero\n",
      "Processed 900 clips in 2.0 seconds\n",
      "Error calculating statistics, likely due\n",
      "        to zero division, setting values to zero\n",
      "Processed 950 clips in 1.8 seconds\n",
      "Processed 1000 clips in 1.7 seconds\n",
      "Error calculating statistics, likely due\n",
      "        to zero division, setting values to zero\n",
      "Error calculating statistics, likely due\n",
      "        to zero division, setting values to zero\n",
      "Processed 1050 clips in 1.4 seconds\n",
      "Error calculating statistics, likely due\n",
      "        to zero division, setting values to zero\n",
      "Processed 1100 clips in 1.9 seconds\n",
      "Error calculating statistics, likely due\n",
      "        to zero division, setting values to zero\n",
      "Error calculating statistics, likely due\n",
      "        to zero division, setting values to zero\n",
      "Error calculating statistics, likely due\n",
      "        to zero division, setting values to zero\n",
      "Processed 1150 clips in 1.6 seconds\n",
      "Processed 1200 clips in 1.8 seconds\n",
      "Error calculating statistics, likely due\n",
      "        to zero division, setting values to zero\n",
      "Processed 1250 clips in 1.9 seconds\n",
      "Error calculating statistics, likely due\n",
      "        to zero division, setting values to zero\n",
      "Processed 1300 clips in 1.9 seconds\n",
      "Error calculating statistics, likely due\n",
      "        to zero division, setting values to zero\n",
      "Error calculating statistics, likely due\n",
      "        to zero division, setting values to zero\n",
      "Processed 1350 clips in 1.7 seconds\n",
      "Error calculating statistics, likely due\n",
      "        to zero division, setting values to zero\n",
      "Processed 1400 clips in 1.5 seconds\n",
      "Error calculating statistics, likely due\n",
      "        to zero division, setting values to zero\n",
      "Processed 1450 clips in 1.6 seconds\n",
      "Error calculating statistics, likely due\n",
      "        to zero division, setting values to zero\n"
     ]
    }
   ],
   "source": [
    "statistics_df_microfaune = automated_labeling_statistics(microfaune_automated_df,manual_df,stats_type = \"general\");"
   ]
  },
  {
   "cell_type": "code",
   "execution_count": 46,
   "id": "1be171d1-294e-4380-8e44-a6b478b3235a",
   "metadata": {
    "scrolled": true
   },
   "outputs": [
    {
     "name": "stdout",
     "output_type": "stream",
     "text": [
      "Processed 50 clips in 1.8 seconds\n",
      "Processed 100 clips in 1.5 seconds\n",
      "Processed 150 clips in 1.5 seconds\n",
      "Processed 200 clips in 1.6 seconds\n",
      "Processed 250 clips in 1.8 seconds\n",
      "Processed 300 clips in 1.8 seconds\n",
      "Processed 350 clips in 1.5 seconds\n",
      "Processed 400 clips in 1.7 seconds\n",
      "Processed 450 clips in 1.7 seconds\n",
      "Processed 500 clips in 1.5 seconds\n",
      "Processed 550 clips in 1.7 seconds\n",
      "Processed 600 clips in 1.4 seconds\n",
      "Processed 650 clips in 1.4 seconds\n",
      "Processed 700 clips in 1.4 seconds\n",
      "Processed 750 clips in 1.7 seconds\n",
      "Processed 800 clips in 1.4 seconds\n",
      "Processed 850 clips in 1.4 seconds\n",
      "Processed 900 clips in 1.7 seconds\n",
      "Processed 950 clips in 1.4 seconds\n",
      "Processed 1000 clips in 1.6 seconds\n",
      "Processed 1050 clips in 1.6 seconds\n",
      "Processed 1100 clips in 1.3 seconds\n",
      "Processed 1150 clips in 2.0 seconds\n",
      "Processed 1200 clips in 1.7 seconds\n",
      "Processed 1250 clips in 1.7 seconds\n",
      "Processed 1300 clips in 1.6 seconds\n",
      "Processed 1350 clips in 1.8 seconds\n",
      "Processed 1400 clips in 1.7 seconds\n",
      "Processed 1450 clips in 1.5 seconds\n",
      "Processed 1500 clips in 1.7 seconds\n",
      "Processed 1550 clips in 1.9 seconds\n",
      "Processed 1600 clips in 1.5 seconds\n",
      "Processed 1650 clips in 1.9 seconds\n",
      "Processed 1700 clips in 1.7 seconds\n",
      "Processed 1750 clips in 1.4 seconds\n",
      "Processed 1800 clips in 1.6 seconds\n",
      "Processed 1850 clips in 1.9 seconds\n"
     ]
    }
   ],
   "source": [
    "statistics_df_tweetynet = automated_labeling_statistics(tweetynet_automated_df,manual_df,stats_type = \"general\");"
   ]
  },
  {
   "cell_type": "code",
   "execution_count": 47,
   "id": "96de62b2-7a89-41ef-b602-6a679479c5e9",
   "metadata": {},
   "outputs": [
    {
     "name": "stdout",
     "output_type": "stream",
     "text": [
      "Global Metrics for Foreground-Background Separation approach\n"
     ]
    },
    {
     "data": {
      "text/html": [
       "<div>\n",
       "<style scoped>\n",
       "    .dataframe tbody tr th:only-of-type {\n",
       "        vertical-align: middle;\n",
       "    }\n",
       "\n",
       "    .dataframe tbody tr th {\n",
       "        vertical-align: top;\n",
       "    }\n",
       "\n",
       "    .dataframe thead th {\n",
       "        text-align: right;\n",
       "    }\n",
       "</style>\n",
       "<table border=\"1\" class=\"dataframe\">\n",
       "  <thead>\n",
       "    <tr style=\"text-align: right;\">\n",
       "      <th></th>\n",
       "      <th>MANUAL ID</th>\n",
       "      <th>TRUE POSITIVE</th>\n",
       "      <th>FALSE NEGATIVE</th>\n",
       "      <th>FALSE POSITIVE</th>\n",
       "      <th>PRECISION</th>\n",
       "      <th>RECALL</th>\n",
       "      <th>F1</th>\n",
       "    </tr>\n",
       "  </thead>\n",
       "  <tbody>\n",
       "    <tr>\n",
       "      <th>0</th>\n",
       "      <td>N/A</td>\n",
       "      <td>50445.0</td>\n",
       "      <td>866.173175</td>\n",
       "      <td>14256.0</td>\n",
       "      <td>0.7797</td>\n",
       "      <td>0.9831</td>\n",
       "      <td>0.8697</td>\n",
       "    </tr>\n",
       "  </tbody>\n",
       "</table>\n",
       "</div>"
      ],
      "text/plain": [
       "  MANUAL ID  TRUE POSITIVE  FALSE NEGATIVE  FALSE POSITIVE  PRECISION  RECALL  \\\n",
       "0       N/A        50445.0      866.173175         14256.0     0.7797  0.9831   \n",
       "\n",
       "       F1  \n",
       "0  0.8697  "
      ]
     },
     "execution_count": 47,
     "metadata": {},
     "output_type": "execute_result"
    }
   ],
   "source": [
    "print(\"Global Metrics for Foreground-Background Separation approach\")\n",
    "global_statistics_df_fg_bg = global_statistics(statistics_df_fg_bg)\n",
    "global_statistics_df_fg_bg"
   ]
  },
  {
   "cell_type": "code",
   "execution_count": 48,
   "id": "ad75d97c-a2c3-4c62-a79a-5e4b5406f730",
   "metadata": {},
   "outputs": [
    {
     "name": "stdout",
     "output_type": "stream",
     "text": [
      "Global Metrics for Microfaune Separation approach\n"
     ]
    },
    {
     "data": {
      "text/html": [
       "<div>\n",
       "<style scoped>\n",
       "    .dataframe tbody tr th:only-of-type {\n",
       "        vertical-align: middle;\n",
       "    }\n",
       "\n",
       "    .dataframe tbody tr th {\n",
       "        vertical-align: top;\n",
       "    }\n",
       "\n",
       "    .dataframe thead th {\n",
       "        text-align: right;\n",
       "    }\n",
       "</style>\n",
       "<table border=\"1\" class=\"dataframe\">\n",
       "  <thead>\n",
       "    <tr style=\"text-align: right;\">\n",
       "      <th></th>\n",
       "      <th>MANUAL ID</th>\n",
       "      <th>TRUE POSITIVE</th>\n",
       "      <th>FALSE NEGATIVE</th>\n",
       "      <th>FALSE POSITIVE</th>\n",
       "      <th>PRECISION</th>\n",
       "      <th>RECALL</th>\n",
       "      <th>F1</th>\n",
       "    </tr>\n",
       "  </thead>\n",
       "  <tbody>\n",
       "    <tr>\n",
       "      <th>0</th>\n",
       "      <td>N/A</td>\n",
       "      <td>30729.0</td>\n",
       "      <td>12786.0</td>\n",
       "      <td>8832.0</td>\n",
       "      <td>0.7767</td>\n",
       "      <td>0.7062</td>\n",
       "      <td>0.7398</td>\n",
       "    </tr>\n",
       "  </tbody>\n",
       "</table>\n",
       "</div>"
      ],
      "text/plain": [
       "  MANUAL ID  TRUE POSITIVE  FALSE NEGATIVE  FALSE POSITIVE  PRECISION  RECALL  \\\n",
       "0       N/A        30729.0         12786.0          8832.0     0.7767  0.7062   \n",
       "\n",
       "       F1  \n",
       "0  0.7398  "
      ]
     },
     "execution_count": 48,
     "metadata": {},
     "output_type": "execute_result"
    }
   ],
   "source": [
    "print(\"Global Metrics for Microfaune Separation approach\")\n",
    "global_statistics_df_microfaune = global_statistics(statistics_df_microfaune)\n",
    "global_statistics_df_microfaune"
   ]
  },
  {
   "cell_type": "code",
   "execution_count": 49,
   "id": "25787816-a1a6-4f35-af67-bdd6b4a7724d",
   "metadata": {},
   "outputs": [
    {
     "name": "stdout",
     "output_type": "stream",
     "text": [
      "Global Metrics for Tweetynet Separation approach\n"
     ]
    },
    {
     "data": {
      "text/html": [
       "<div>\n",
       "<style scoped>\n",
       "    .dataframe tbody tr th:only-of-type {\n",
       "        vertical-align: middle;\n",
       "    }\n",
       "\n",
       "    .dataframe tbody tr th {\n",
       "        vertical-align: top;\n",
       "    }\n",
       "\n",
       "    .dataframe thead th {\n",
       "        text-align: right;\n",
       "    }\n",
       "</style>\n",
       "<table border=\"1\" class=\"dataframe\">\n",
       "  <thead>\n",
       "    <tr style=\"text-align: right;\">\n",
       "      <th></th>\n",
       "      <th>MANUAL ID</th>\n",
       "      <th>TRUE POSITIVE</th>\n",
       "      <th>FALSE NEGATIVE</th>\n",
       "      <th>FALSE POSITIVE</th>\n",
       "      <th>PRECISION</th>\n",
       "      <th>RECALL</th>\n",
       "      <th>F1</th>\n",
       "    </tr>\n",
       "  </thead>\n",
       "  <tbody>\n",
       "    <tr>\n",
       "      <th>0</th>\n",
       "      <td>N/A</td>\n",
       "      <td>49620.0</td>\n",
       "      <td>1514.173175</td>\n",
       "      <td>5457.0</td>\n",
       "      <td>0.9009</td>\n",
       "      <td>0.9704</td>\n",
       "      <td>0.9344</td>\n",
       "    </tr>\n",
       "  </tbody>\n",
       "</table>\n",
       "</div>"
      ],
      "text/plain": [
       "  MANUAL ID  TRUE POSITIVE  FALSE NEGATIVE  FALSE POSITIVE  PRECISION  RECALL  \\\n",
       "0       N/A        49620.0     1514.173175          5457.0     0.9009  0.9704   \n",
       "\n",
       "       F1  \n",
       "0  0.9344  "
      ]
     },
     "execution_count": 49,
     "metadata": {},
     "output_type": "execute_result"
    }
   ],
   "source": [
    "print(\"Global Metrics for Tweetynet Separation approach\")\n",
    "global_statistics_df_tweetynet = global_statistics(statistics_df_tweetynet)\n",
    "global_statistics_df_tweetynet"
   ]
  },
  {
   "cell_type": "code",
   "execution_count": null,
   "id": "e10cc95c-a6d4-4431-b210-c5e09de2b160",
   "metadata": {},
   "outputs": [],
   "source": []
  }
 ],
 "metadata": {
  "kernelspec": {
   "display_name": "Python 3 (ipykernel)",
   "language": "python",
   "name": "python3"
  },
  "language_info": {
   "codemirror_mode": {
    "name": "ipython",
    "version": 3
   },
   "file_extension": ".py",
   "mimetype": "text/x-python",
   "name": "python",
   "nbconvert_exporter": "python",
   "pygments_lexer": "ipython3",
   "version": "3.10.12"
  }
 },
 "nbformat": 4,
 "nbformat_minor": 5
}
